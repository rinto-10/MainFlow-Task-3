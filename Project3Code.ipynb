import pandas as pd

# Create dataset with 20 entries
data = {
    'CustomerID': list(range(1, 11)),
    'Age': [18, 22, 24, 32, 23, 45, 43, 64, 30, 67],
    'Annual Income': [1500, 1600, 1700, 1800, 1900, 2000, 2100, 2200, 2300, 2400,],
    'Spending Score': [39, 81, 77, 40, 76, 6, 94, 3, 72, 14]
}

df = pd.DataFrame(data)

# Save as CSV
df.to_csv("customer_data.csv", index=False)

print("✅ customer_data.csv file created successfully!")